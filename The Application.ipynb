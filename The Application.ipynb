{
 "cells": [
  {
   "cell_type": "code",
   "execution_count": 1,
   "metadata": {},
   "outputs": [],
   "source": [
    "import tkinter as tk\n",
    "import pandas as pd"
   ]
  },
  {
   "cell_type": "code",
   "execution_count": 2,
   "metadata": {},
   "outputs": [],
   "source": [
    "encryptionkey = pd.read_csv(r\"decodekeynew.csv\", sep=',', names=['Character', 'Byte'], header=None, skiprows=[0])\n",
    "df = pd.DataFrame(data=encryptionkey)\n",
    "\n",
    "df['Character'] = df['Character'].astype(str)\n",
    "df['Byte'] = df['Byte'].astype(str)\n",
    "\n",
    "original_message = 'It is a beautiful day to code something new. In fact, a day like any other,' \\\n",
    "                   ' with new projects and ideas. Maybe also new challenges and nerve-rackings bugs. Time will tell.'\n",
    "\n",
    "\n",
    "def code_message(message):\n",
    "    message_split = [char for char in message]\n",
    "    coded_message = \"\"\n",
    "\n",
    "    for i in range(len(message_split)):\n",
    "        j = message_split[i]\n",
    "        try:\n",
    "            coded_char = encryptionkey.loc[encryptionkey['Character'] == j, 'Byte'].iloc[0]\n",
    "\n",
    "        except:\n",
    "            print('unrecognized character')\n",
    "            coded_char = '@@@'\n",
    "        coded_message = coded_message + coded_char\n",
    "    return coded_message\n",
    "\n",
    "\n",
    "def decode_message(message):\n",
    "    decoded_message = []\n",
    "\n",
    "    for i in range(0, len(message), 2):\n",
    "        j = message[i:i + 2]\n",
    "        index_nb = df[df.eq(j).any(1)]\n",
    "        df2 = index_nb['Character'].tolist()\n",
    "        s = [str(x) for x in df2]\n",
    "        decoded_message = decoded_message + s\n",
    "    new_word = ''.join(decoded_message)\n",
    "\n",
    "    return new_word"
   ]
  },
  {
   "cell_type": "code",
   "execution_count": 7,
   "metadata": {},
   "outputs": [],
   "source": [
    "def GUI():\n",
    "    def getResult():\n",
    "        choice = v.get()\n",
    "        if choice == 'e':\n",
    "\n",
    "            x1 = entry1.get()\n",
    "            label1['text'] = code_message(x1)\n",
    "            canvas1.create_window(200, 250, window=label1)\n",
    "\n",
    "        else:\n",
    "            x1 = entry1.get()\n",
    "            label1['text'] = decode_message(x1)\n",
    "            canvas1.create_window(200, 250, window=label1)\n",
    "\n",
    "    root = tk.Tk()\n",
    "    root.title('EncryptINC')\n",
    "    root.minsize(width=400, height=330)\n",
    "    canvas1 = tk.Canvas(root, width=400, height=330)\n",
    "    canvas1.pack()\n",
    "    entry1 = tk.Entry(root)\n",
    "    canvas1.create_window(200, 180, window=entry1)\n",
    "    label1 = tk.Label()\n",
    "    button1 = tk.Button(text='Submit', command=getResult)\n",
    "    canvas1.create_window(200, 210, window=button1)\n",
    "\n",
    "    v = tk.StringVar()\n",
    "    v.set(\"e\")\n",
    "\n",
    "    b = tk.Radiobutton(root, text='Encrypt', variable=v, value='e')\n",
    "    canvas1.create_window(200, 45, window=b)\n",
    "\n",
    "    b2 = tk.Radiobutton(root, text='Decrypt', variable=v, value='d')\n",
    "    canvas1.create_window(200, 70, window=b2)\n",
    "\n",
    "    root.mainloop()\n",
    "\n",
    "\n",
    "GUI()"
   ]
  },
  {
   "cell_type": "code",
   "execution_count": null,
   "metadata": {},
   "outputs": [],
   "source": []
  },
  {
   "cell_type": "code",
   "execution_count": null,
   "metadata": {},
   "outputs": [],
   "source": []
  }
 ],
 "metadata": {
  "kernelspec": {
   "display_name": "Python 3",
   "language": "python",
   "name": "python3"
  },
  "language_info": {
   "codemirror_mode": {
    "name": "ipython",
    "version": 3
   },
   "file_extension": ".py",
   "mimetype": "text/x-python",
   "name": "python",
   "nbconvert_exporter": "python",
   "pygments_lexer": "ipython3",
   "version": "3.8.5"
  }
 },
 "nbformat": 4,
 "nbformat_minor": 4
}
